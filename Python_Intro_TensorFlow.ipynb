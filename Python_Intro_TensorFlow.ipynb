{
  "nbformat": 4,
  "nbformat_minor": 0,
  "metadata": {
    "kernelspec": {
      "display_name": "Python 3",
      "language": "python",
      "name": "python3"
    },
    "language_info": {
      "codemirror_mode": {
        "name": "ipython",
        "version": 3
      },
      "file_extension": ".py",
      "mimetype": "text/x-python",
      "name": "python",
      "nbconvert_exporter": "python",
      "pygments_lexer": "ipython3",
      "version": "3.7.3"
    },
    "colab": {
      "name": "Python-Intro-TensorFlow.ipynb",
      "provenance": [],
      "collapsed_sections": [
        "O6hg-KZ2mdmR",
        "EJL-zx_7mdmT",
        "ZNLhoZ9dmdmV",
        "en1CZNBlmdmW"
      ],
      "include_colab_link": true
    }
  },
  "cells": [
    {
      "cell_type": "markdown",
      "metadata": {
        "id": "view-in-github",
        "colab_type": "text"
      },
      "source": [
        "<a href=\"https://colab.research.google.com/github/luiz-star/Intro_TensorFlow/blob/main/Python_Intro_TensorFlow.ipynb\" target=\"_parent\"><img src=\"https://colab.research.google.com/assets/colab-badge.svg\" alt=\"Open In Colab\"/></a>"
      ]
    },
    {
      "cell_type": "markdown",
      "metadata": {
        "id": "sKmLk-Cgmdlr"
      },
      "source": [
        "# <font color='blue'>- Python Fundamentos - TensorFlow</font>\n",
        "\n"
      ]
    },
    {
      "cell_type": "code",
      "metadata": {
        "colab": {
          "base_uri": "https://localhost:8080/"
        },
        "id": "jBObCiRdmdly",
        "outputId": "f4bd0c53-526f-4080-9312-7b9c96dec1e6"
      },
      "source": [
        "# Versão da Linguagem Python\n",
        "from platform import python_version\n",
        "print('Versão da Linguagem Python Usada Neste Jupyter Notebook:', python_version())"
      ],
      "execution_count": 45,
      "outputs": [
        {
          "output_type": "stream",
          "text": [
            "Versão da Linguagem Python Usada Neste Jupyter Notebook: 3.7.11\n"
          ],
          "name": "stdout"
        }
      ]
    },
    {
      "cell_type": "markdown",
      "metadata": {
        "id": "zIzya6qDmdl0"
      },
      "source": [
        "# Introdução ao TensorFlow"
      ]
    },
    {
      "cell_type": "markdown",
      "metadata": {
        "id": "HPkyPK1Imdl2"
      },
      "source": [
        "O Tensorflow é uma das bibliotecas mais amplamente utilizadas para implementar o aprendizado de máquina e outros algoritmos que envolvem grandes operações matemáticas. O Tensorflow foi desenvolvido pelo Google e é uma das bibliotecas de aprendizado de máquina mais populares no GitHub. O Google usa o Tensorflow para aprendizado de máquina em quase todos os aplicativos. Se você já usou o Google Photos ou o Google Voice Search, então já utlizou uma aplicação criada com a ajuda do TensorFlow. Vamos compreender os detalhes por trás do TensorFlow.\n",
        "\n",
        "Matematicamente, um tensor é um vetor N-dimensional, significando que um tensor pode ser usado para representar conjuntos de dados N-dimensionais. Aqui está um exemplo:"
      ]
    },
    {
      "cell_type": "code",
      "metadata": {
        "colab": {
          "base_uri": "https://localhost:8080/",
          "height": 34
        },
        "id": "Ju0q9l_Kmdl4",
        "outputId": "77389f90-1c25-408e-a765-581cbc9378c0"
      },
      "source": [
        "from IPython.display import Image\n",
        "Image('imagens/tensor1.png')"
      ],
      "execution_count": 46,
      "outputs": [
        {
          "output_type": "execute_result",
          "data": {
            "image/png": "imagens/tensor1.png",
            "text/plain": [
              "<IPython.core.display.Image object>"
            ]
          },
          "metadata": {
            "tags": []
          },
          "execution_count": 46
        }
      ]
    },
    {
      "cell_type": "markdown",
      "metadata": {
        "id": "f3RqE-5Cmdl4"
      },
      "source": [
        "A figura acima mostra alguns tensores simplificados com dimensões mínimas. À medida que a dimensão continua crescendo, os dados se tornam mais e mais complexos. Por exemplo, se pegarmos um Tensor da forma (3x3), posso chamá-lo de matriz de 3 linhas e colunas. Se eu selecionar outro Tensor de forma (1000x3x3), posso chamá-lo como tensor ou conjunto de 1000 matrizes 3x3. Aqui chamamos (1000x3x3) como a forma ou dimensão do tensor resultante. Os tensores podem ser constantes ou variáveis."
      ]
    },
    {
      "cell_type": "code",
      "metadata": {
        "colab": {
          "base_uri": "https://localhost:8080/",
          "height": 34
        },
        "id": "YpU8CIdvmdl5",
        "outputId": "64dc8fee-2a88-4805-dc04-19a2d1794eec"
      },
      "source": [
        "from IPython.display import Image\n",
        "Image('imagens/tensor2.png')"
      ],
      "execution_count": 47,
      "outputs": [
        {
          "output_type": "execute_result",
          "data": {
            "image/png": "imagens/tensor2.png",
            "text/plain": [
              "<IPython.core.display.Image object>"
            ]
          },
          "metadata": {
            "tags": []
          },
          "execution_count": 47
        }
      ]
    },
    {
      "cell_type": "markdown",
      "metadata": {
        "id": "Dbdy44rLmdl7"
      },
      "source": [
        "## TensorFlow x NumPy"
      ]
    },
    {
      "cell_type": "markdown",
      "metadata": {
        "id": "onLDb2kRmdl-"
      },
      "source": [
        "TensorFlow e NumPy são bastante semelhantes (ambos são bibliotecas de matriz N-d). NumPy é o pacote fundamental para computação científica com Python. Ele contém um poderoso objeto array N-dimensional, funções sofisticadas (broadcasting) e etc. Acredito que os usuários Python não podem viver sem o NumPy. O NumPy tem suporte a matriz N-d, mas não oferece métodos para criar funções de tensor e automaticamente computar derivadas, além de não ter suporte a GPU, e esta é uma das principais razões para a existência do TensorFlow. Abaixo uma comparação entre NumPy e TensorFlow, e você vai perceber que muitas palavras-chave são semelhantes."
      ]
    },
    {
      "cell_type": "code",
      "metadata": {
        "colab": {
          "base_uri": "https://localhost:8080/",
          "height": 34
        },
        "id": "3_SG_IsDmdmB",
        "outputId": "d0a7f569-1bf0-4c90-c6c1-1d895a861635"
      },
      "source": [
        "from IPython.display import Image\n",
        "Image('imagens/tf_numpy.png')"
      ],
      "execution_count": 48,
      "outputs": [
        {
          "output_type": "execute_result",
          "data": {
            "image/png": "imagens/tf_numpy.png",
            "text/plain": [
              "<IPython.core.display.Image object>"
            ]
          },
          "metadata": {
            "tags": []
          },
          "execution_count": 48
        }
      ]
    },
    {
      "cell_type": "markdown",
      "metadata": {
        "id": "RdQJkIQGmdmC"
      },
      "source": [
        "## Grafo Computacional\n",
        "\n",
        "\n",
        "\n",
        "Agora sabemos o que o tensor realmente significa e é hora de entender o fluxo. Este fluxo refere-se a um grafo computacional ou simplesmente um grafo. \n",
        "\n",
        "Grafos computacionais são uma boa maneira de pensar em expressões matemáticas. O conceito de grafo foi introduzido por Leonhard Euler em 1736 para tentar resolver o problema das Pontes de Konigsberg. Grafos são modelos matemáticos para resolver problemas práticos do dia a dia, com várias aplicações no mundo real tais como: circuitos elétricos, redes de distribuição, relações de parentesco entre pessoas, análise de redes sociais, logística, redes de estradas, redes de computadores e muito mais. Grafos são muito usados para modelar problemas em computação.\n",
        "\n",
        "Um Grafo é um modelo matemático que representa relações entre objetos. Um grafo G = (V, E) consiste de um conjunto de vértices V (também chamados de nós), ligados por um conjunto de bordas ou arestas E. \n",
        "\n",
        "Considere o diagrama abaixo:"
      ]
    },
    {
      "cell_type": "code",
      "metadata": {
        "colab": {
          "base_uri": "https://localhost:8080/",
          "height": 34
        },
        "id": "TA80dJBpmdmD",
        "outputId": "23a272e9-21f0-4a00-8b56-45847ff81289"
      },
      "source": [
        "from IPython.display import Image\n",
        "Image('imagens/grafo1.png')"
      ],
      "execution_count": 49,
      "outputs": [
        {
          "output_type": "execute_result",
          "data": {
            "image/png": "imagens/grafo1.png",
            "text/plain": [
              "<IPython.core.display.Image object>"
            ]
          },
          "metadata": {
            "tags": []
          },
          "execution_count": 49
        }
      ]
    },
    {
      "cell_type": "markdown",
      "metadata": {
        "id": "QcovYkGumdmE"
      },
      "source": [
        "Existem três operações: duas adições e uma multiplicação. Ou seja: \n",
        "\n",
        "- c = a+b\n",
        "- d = b+1\n",
        "- e = c∗d\n",
        "\n",
        "Para criar um grafo computacional, fazemos cada uma dessas operações nos nós, juntamente com as variáveis de entrada. Quando o valor de um nó é a entrada para outro nó, uma seta vai de um para outro e temos nesse caso um grafo direcionado.\n",
        "\n",
        "Esses tipos de grafos surgem o tempo todo em Ciência da Computação, especialmente ao falar sobre programas funcionais. Eles estão intimamente relacionados com as noções de grafos de dependência e grafos de chamadas. Eles também são a principal abstração por trás do popular framework de Deep Learning, o TensorFlow.\n",
        "\n",
        "Para mais detalhes sobre grafos, leia um dos capítulos do Deep Learning Book:\n",
        "\n",
        "http://deeplearningbook.com.br/algoritmo-backpropagation-parte1-grafos-computacionais-e-chain-rule/"
      ]
    },
    {
      "cell_type": "markdown",
      "metadata": {
        "id": "F3ZRHtdMmdmG"
      },
      "source": [
        "Um grafo para execução de um modelo de Machine Learning pode ser bem grande e podemos executar sub-grafos (porções dos grafos) em dispositivos diferentes, como uma GPU. Exemplo:"
      ]
    },
    {
      "cell_type": "code",
      "metadata": {
        "colab": {
          "base_uri": "https://localhost:8080/",
          "height": 34
        },
        "id": "fD8kuhAZmdmG",
        "outputId": "2438b67d-6306-488e-eabb-1735d8158f21"
      },
      "source": [
        "from IPython.display import Image\n",
        "Image('imagens/grafo2.png')"
      ],
      "execution_count": 50,
      "outputs": [
        {
          "output_type": "execute_result",
          "data": {
            "image/png": "imagens/grafo2.png",
            "text/plain": [
              "<IPython.core.display.Image object>"
            ]
          },
          "metadata": {
            "tags": []
          },
          "execution_count": 50
        }
      ]
    },
    {
      "cell_type": "markdown",
      "metadata": {
        "id": "a8PHDYgimdmG"
      },
      "source": [
        "A figura acima explica a execução paralela de sub-grafos. Aqui estão 2 operações de multiplicação de matrizes, já que ambas estão no mesmo nível. Os nós são executados em gpu_0 e gpu_1 em paralelo."
      ]
    },
    {
      "cell_type": "markdown",
      "metadata": {
        "id": "RXR7tpj-mdmH"
      },
      "source": [
        "## Modelo de Programação TensorFlow"
      ]
    },
    {
      "cell_type": "markdown",
      "metadata": {
        "id": "a78cBNt5mdmH"
      },
      "source": [
        "O principal objetivo de um programa TensorFlow é expressar uma computação numérica como um grafo direcionado. A figura abaixo é um exemplo de grafo de computação, que representa o cálculo de h = ReLU (Wx + b). Este é um componente muito clássico em muitas redes neurais, que conduz a transformação linear dos dados de entrada e, em seguida, alimenta uma linearidade (função de ativação linear retificada, neste caso)."
      ]
    },
    {
      "cell_type": "code",
      "metadata": {
        "colab": {
          "base_uri": "https://localhost:8080/",
          "height": 34
        },
        "id": "ORTjfBnimdmH",
        "outputId": "6068b29e-cf81-4527-dd44-d7621bcc0b45"
      },
      "source": [
        "from IPython.display import Image\n",
        "Image('imagens/grafo3.png')"
      ],
      "execution_count": 51,
      "outputs": [
        {
          "output_type": "execute_result",
          "data": {
            "image/png": "imagens/grafo3.png",
            "text/plain": [
              "<IPython.core.display.Image object>"
            ]
          },
          "metadata": {
            "tags": []
          },
          "execution_count": 51
        }
      ]
    },
    {
      "cell_type": "markdown",
      "metadata": {
        "id": "h-Q0K_LsmdmI"
      },
      "source": [
        "O grafo acima representa um cálculo de fluxo de dados; cada nó está em operação com zero ou mais entradas e zero ou mais saídas. As arestas do grafo são tensores que fluem entre os nós. Os clientes geralmente constroem um grafo computacional usando uma das linguagens frontend suportadas como Python e C ++ e, em seguida, iniciam o grafo em uma sessão a ser executada (Session é uma noção muito importante no TensorFlow, que estudaremos na sequência)."
      ]
    },
    {
      "cell_type": "markdown",
      "metadata": {
        "id": "0LNxK1JCmdmI"
      },
      "source": [
        "Vamos ver o grafo computacional acima em detalhes. Truncamos o grafo e deixamos a parte acima do nó ReLU, que é exatamente o cálculo h = ReLU (Wx + b)."
      ]
    },
    {
      "cell_type": "code",
      "metadata": {
        "colab": {
          "base_uri": "https://localhost:8080/",
          "height": 34
        },
        "id": "g3oDEBPGmdmI",
        "outputId": "fea7bdf2-2b46-4c11-97c3-5d21891ec7ee"
      },
      "source": [
        "from IPython.display import Image\n",
        "Image('imagens/grafo4.png')"
      ],
      "execution_count": 52,
      "outputs": [
        {
          "output_type": "execute_result",
          "data": {
            "image/png": "imagens/grafo4.png",
            "text/plain": [
              "<IPython.core.display.Image object>"
            ]
          },
          "metadata": {
            "tags": []
          },
          "execution_count": 52
        }
      ]
    },
    {
      "cell_type": "markdown",
      "metadata": {
        "id": "TD1973H7mdmJ"
      },
      "source": [
        "Podemos ver o grafo como um sistema, que tem entradas (os dados x), saída (h neste caso), variáveis com estado (W e b) e um monte de operações (matmul, add e ReLU). Deixe-me apresentar-lhe um por um.\n",
        "\n",
        "- Placeholders: para alimentar a entrada para treinar o modelo ou fazer inferência, devemos ter uma porta de entrada para o grafo. Espaços reservados (Placeholders) são nós cujos valores são alimentados em tempo de execução. Normalmente, queremos alimentar entradas de dados, rótulos e hiper-parâmetros no modelo.\n",
        "\n",
        "\n",
        "- Variáveis: quando treinamos um modelo, usamos variáveis para manter e atualizar parâmetros. Ao contrário de muitos tensores que fluem ao longo das margens do grafo, uma variável é um tipo especial de operação. Na maioria dos modelos de aprendizado de máquina, existem muitos parâmetros que temos que aprender, que são atualizados durante o treinamento. Variáveis são nós com estado que armazenam parâmetros e produzem seus valores atuais de tempos em tempos. Seus estados são mantidos em múltiplas execuções de um grafo. Por exemplo, os valores desses nós não serão atualizados até que uma etapa completa de treinamento usando um mini lote de dados seja concluída.\n",
        "\n",
        "\n",
        "- Operações matemáticas: Neste grafo, existem três tipos de operações matemáticas. A operação MatMul multiplica dois valores de matriz; A operação Add adiciona elementos e a operação ReLU é ativada com a função linear retificada de elementos."
      ]
    },
    {
      "cell_type": "markdown",
      "metadata": {
        "id": "MHKaJqpjmdmK"
      },
      "source": [
        "Variáveis devem ser explicitamente inicializadas. Quando criamos uma variável, passamos um tensor como seu valor inicial para o construtor variable (). O inicializador pode ser constantes, sequências e valores aleatórios. Neste caso, inicializamos o vetor de polarização b por constantes que são zeros e inicializamos a matriz de ponderações W por uniforme aleatório Observe que todos esses ops exigem que você especifique a forma dos tensores e que a forma se torne automaticamente a forma da variável , Neste caso, um tensor com forma (100,) e W é um tensor de classificação com forma (784, 100)."
      ]
    },
    {
      "cell_type": "markdown",
      "metadata": {
        "id": "ffzBp4cnmdmK"
      },
      "source": [
        "Para executar o cálculo, devemos lançar o grafo em um tf.Session. O que é uma sessão? Podemos entender uma sessão como um ambiente para executar o grafo. Na verdade, para fazer computação numérica eficiente em Python, normalmente usamos bibliotecas como o NumPy que realizam operações custosas computacionalmente, como a multiplicação de matrizes, usando código altamente eficiente implementado em outro idioma (C). Infelizmente, ainda há muita sobrecarga voltando para o Python em todas as operações. Essa sobrecarga é particularmente ruim se você quiser fazer cálculos em GPUs ou de maneira distribuída, onde pode haver um alto custo para transferir dados. "
      ]
    },
    {
      "cell_type": "markdown",
      "metadata": {
        "id": "B0Yc_mmRmdmL"
      },
      "source": [
        "## Hello World"
      ]
    },
    {
      "cell_type": "markdown",
      "metadata": {
        "id": "OZ2CJblKmdmL"
      },
      "source": [
        "Obs: Embora a versão 2.x do TensorFlow já esteja disponível, este Jupyter Notebook usar a versão 1.15, que também é mantida pela equipe do Google.\n",
        "\n",
        "\n",
        "\n",
        "Execute a célula abaixo para instalar o TensorFlow na sua máquina."
      ]
    },
    {
      "cell_type": "code",
      "metadata": {
        "id": "2oyPOB1DmdmL"
      },
      "source": [
        "# Versão do TensorFlow a ser usada \n",
        "!pip install -q tensorflow==1.15.2"
      ],
      "execution_count": 53,
      "outputs": []
    },
    {
      "cell_type": "code",
      "metadata": {
        "id": "Ox0ocQ_RmdmN"
      },
      "source": [
        "import tensorflow as tf"
      ],
      "execution_count": 54,
      "outputs": []
    },
    {
      "cell_type": "code",
      "metadata": {
        "colab": {
          "base_uri": "https://localhost:8080/",
          "height": 35
        },
        "id": "FnSR20RrmdmO",
        "outputId": "cb35aa03-be21-4ff6-b8e8-cd1c6718c0ab"
      },
      "source": [
        "tf.__version__"
      ],
      "execution_count": 55,
      "outputs": [
        {
          "output_type": "execute_result",
          "data": {
            "application/vnd.google.colaboratory.intrinsic+json": {
              "type": "string"
            },
            "text/plain": [
              "'1.15.2'"
            ]
          },
          "metadata": {
            "tags": []
          },
          "execution_count": 55
        }
      ]
    },
    {
      "cell_type": "code",
      "metadata": {
        "id": "Ll4KjBIBmdmP"
      },
      "source": [
        "# Cria um tensor\n",
        "# Esse tensor é adicionado como um nó ao grafo.\n",
        "hello = tf.constant('Hello, TensorFlow!')"
      ],
      "execution_count": 56,
      "outputs": []
    },
    {
      "cell_type": "code",
      "metadata": {
        "colab": {
          "base_uri": "https://localhost:8080/"
        },
        "id": "DHTZzyLDmdmP",
        "outputId": "ec137eb4-f75e-4573-825a-ae9ba46b5f02"
      },
      "source": [
        "print(hello)"
      ],
      "execution_count": 57,
      "outputs": [
        {
          "output_type": "stream",
          "text": [
            "Tensor(\"Const_11:0\", shape=(), dtype=string)\n"
          ],
          "name": "stdout"
        }
      ]
    },
    {
      "cell_type": "code",
      "metadata": {
        "id": "HjIxjoN6mdmQ"
      },
      "source": [
        "# Inicia a sessão TensorFlow\n",
        "sess = tf.Session()"
      ],
      "execution_count": 58,
      "outputs": []
    },
    {
      "cell_type": "code",
      "metadata": {
        "colab": {
          "base_uri": "https://localhost:8080/"
        },
        "id": "KJ1MulOZmdmQ",
        "outputId": "176ac42e-fe78-4c84-ce2f-1e5f7d07cee2"
      },
      "source": [
        "print(sess)"
      ],
      "execution_count": 59,
      "outputs": [
        {
          "output_type": "stream",
          "text": [
            "<tensorflow.python.client.session.Session object at 0x7f6948987bd0>\n"
          ],
          "name": "stdout"
        }
      ]
    },
    {
      "cell_type": "code",
      "metadata": {
        "colab": {
          "base_uri": "https://localhost:8080/"
        },
        "id": "Z07H_h0bmdmQ",
        "outputId": "33ef602a-3b1d-4514-ec34-bf5ffc9bda56"
      },
      "source": [
        "# Executa o Grafo Computacional\n",
        "print(sess.run(hello))"
      ],
      "execution_count": 60,
      "outputs": [
        {
          "output_type": "stream",
          "text": [
            "b'Hello, TensorFlow!'\n"
          ],
          "name": "stdout"
        }
      ]
    },
    {
      "cell_type": "markdown",
      "metadata": {
        "id": "jClWkUWzmdmR"
      },
      "source": [
        "## Operações Matemáticas com Tensores"
      ]
    },
    {
      "cell_type": "markdown",
      "metadata": {
        "id": "O6hg-KZ2mdmR"
      },
      "source": [
        "### Soma"
      ]
    },
    {
      "cell_type": "code",
      "metadata": {
        "id": "trN_1LpMmdmR"
      },
      "source": [
        "# Constantes\n",
        "const_a = tf.constant(5)\n",
        "const_b = tf.constant(9)"
      ],
      "execution_count": 61,
      "outputs": []
    },
    {
      "cell_type": "code",
      "metadata": {
        "colab": {
          "base_uri": "https://localhost:8080/"
        },
        "id": "61TESf_3mdmR",
        "outputId": "4ba5afa9-ccdd-452b-d5d4-bacc40e3d05a"
      },
      "source": [
        "print(const_a)"
      ],
      "execution_count": 62,
      "outputs": [
        {
          "output_type": "stream",
          "text": [
            "Tensor(\"Const_12:0\", shape=(), dtype=int32)\n"
          ],
          "name": "stdout"
        }
      ]
    },
    {
      "cell_type": "code",
      "metadata": {
        "id": "nQdzjV4ImdmS"
      },
      "source": [
        "# Soma\n",
        "total = const_a + const_b"
      ],
      "execution_count": 63,
      "outputs": []
    },
    {
      "cell_type": "code",
      "metadata": {
        "colab": {
          "base_uri": "https://localhost:8080/"
        },
        "id": "yQVJu7vSmdmS",
        "outputId": "9623c03c-41db-4339-a268-26a9803651bc"
      },
      "source": [
        "print(total)"
      ],
      "execution_count": 64,
      "outputs": [
        {
          "output_type": "stream",
          "text": [
            "Tensor(\"add_3:0\", shape=(), dtype=int32)\n"
          ],
          "name": "stdout"
        }
      ]
    },
    {
      "cell_type": "code",
      "metadata": {
        "colab": {
          "base_uri": "https://localhost:8080/"
        },
        "id": "C4MGDNbhmdmT",
        "outputId": "a44c7843-7bb5-4905-9686-21f9696ef5df"
      },
      "source": [
        "# Sessão TF\n",
        "with tf.compat.v1.Session() as sess:\n",
        "    print('\\nA soma do node1 com o node2 é: %f' % sess.run(total))"
      ],
      "execution_count": 65,
      "outputs": [
        {
          "output_type": "stream",
          "text": [
            "\n",
            "A soma do node1 com o node2 é: 14.000000\n"
          ],
          "name": "stdout"
        }
      ]
    },
    {
      "cell_type": "code",
      "metadata": {
        "colab": {
          "base_uri": "https://localhost:8080/"
        },
        "id": "FIYowzjkmdmT",
        "outputId": "2608dad7-d3aa-472e-af02-2e6c6faf4b31"
      },
      "source": [
        "# Criando os nodes no grafo computacional\n",
        "node1 = tf.constant(5, dtype = tf.int32)\n",
        "node2 = tf.constant(9, dtype = tf.int32)\n",
        "node3 = tf.add(node1, node2)\n",
        "\n",
        "# Cria a sessão TF\n",
        "sess = tf.Session()\n",
        " \n",
        "# Executa o grafo\n",
        "print(\"\\nA soma do node1 com o node2 é:\", sess.run(node3))\n",
        " \n",
        "# Fecha a sessão\n",
        "sess.close()"
      ],
      "execution_count": 66,
      "outputs": [
        {
          "output_type": "stream",
          "text": [
            "\n",
            "A soma do node1 com o node2 é: 14\n"
          ],
          "name": "stdout"
        }
      ]
    },
    {
      "cell_type": "markdown",
      "metadata": {
        "id": "EJL-zx_7mdmT"
      },
      "source": [
        "### Subtração"
      ]
    },
    {
      "cell_type": "code",
      "metadata": {
        "id": "BkPwI-qjmdmU"
      },
      "source": [
        "# Tensores randômicos\n",
        "rand_a = tf.random_normal([3], 2.0)\n",
        "rand_b = tf.random_uniform([3], 1.0, 4.0)"
      ],
      "execution_count": 67,
      "outputs": []
    },
    {
      "cell_type": "code",
      "metadata": {
        "colab": {
          "base_uri": "https://localhost:8080/"
        },
        "id": "O5UnC68DmdmU",
        "outputId": "531a3c89-a489-4048-ba40-dfaf34d5e204"
      },
      "source": [
        "print(rand_a)"
      ],
      "execution_count": 68,
      "outputs": [
        {
          "output_type": "stream",
          "text": [
            "Tensor(\"random_normal_1:0\", shape=(3,), dtype=float32)\n"
          ],
          "name": "stdout"
        }
      ]
    },
    {
      "cell_type": "code",
      "metadata": {
        "colab": {
          "base_uri": "https://localhost:8080/"
        },
        "id": "zDEf3qPPmdmU",
        "outputId": "e956b57c-a1ed-42d6-b3b9-23fa5681b7df"
      },
      "source": [
        "print(rand_b)"
      ],
      "execution_count": 69,
      "outputs": [
        {
          "output_type": "stream",
          "text": [
            "Tensor(\"random_uniform_1:0\", shape=(3,), dtype=float32)\n"
          ],
          "name": "stdout"
        }
      ]
    },
    {
      "cell_type": "code",
      "metadata": {
        "id": "ECoY6_lkmdmU"
      },
      "source": [
        "# Subtração\n",
        "diff = tf.subtract(rand_a, rand_b)"
      ],
      "execution_count": 70,
      "outputs": []
    },
    {
      "cell_type": "code",
      "metadata": {
        "colab": {
          "base_uri": "https://localhost:8080/"
        },
        "id": "Reld2j2UmdmU",
        "outputId": "1e6b5433-10b0-4ae0-d583-18874f791991"
      },
      "source": [
        "# Sessão TF\n",
        "with tf.Session() as sess:\n",
        "    print('\\nTensor rand_a: ', sess.run(rand_a))\n",
        "    print('\\nTensor rand_b: ', sess.run(rand_b))\n",
        "    print('\\nSubtração entre os 2 tensores é: ', sess.run(diff))"
      ],
      "execution_count": 71,
      "outputs": [
        {
          "output_type": "stream",
          "text": [
            "\n",
            "Tensor rand_a:  [2.5641077 1.9653454 0.9086193]\n",
            "\n",
            "Tensor rand_b:  [3.6132817 3.7118597 1.5786319]\n",
            "\n",
            "Subtração entre os 2 tensores é:  [-1.2332556  0.3445642 -1.1046097]\n"
          ],
          "name": "stdout"
        }
      ]
    },
    {
      "cell_type": "markdown",
      "metadata": {
        "id": "ZNLhoZ9dmdmV"
      },
      "source": [
        "### Divisão"
      ]
    },
    {
      "cell_type": "code",
      "metadata": {
        "id": "SrlPcDL5mdmV"
      },
      "source": [
        "node1 = tf.constant(21, dtype=tf.int32)\n",
        "node2 = tf.constant(7, dtype=tf.int32)"
      ],
      "execution_count": 72,
      "outputs": []
    },
    {
      "cell_type": "code",
      "metadata": {
        "id": "tXVyINcQmdmV"
      },
      "source": [
        "div = tf.div(node1, node2)"
      ],
      "execution_count": 73,
      "outputs": []
    },
    {
      "cell_type": "code",
      "metadata": {
        "colab": {
          "base_uri": "https://localhost:8080/"
        },
        "id": "Tts6tMWnmdmV",
        "outputId": "13277e0d-875b-4a9f-cc9b-38fdd6722f58"
      },
      "source": [
        "# Sessão TF\n",
        "with tf.Session() as sess:\n",
        "    print('\\nDivisão entre os 2 tensores é: ', sess.run(div))"
      ],
      "execution_count": 74,
      "outputs": [
        {
          "output_type": "stream",
          "text": [
            "\n",
            "Divisão entre os 2 tensores é:  3\n"
          ],
          "name": "stdout"
        }
      ]
    },
    {
      "cell_type": "markdown",
      "metadata": {
        "id": "en1CZNBlmdmW"
      },
      "source": [
        "### Multiplicação"
      ]
    },
    {
      "cell_type": "markdown",
      "metadata": {
        "id": "NZcNSLqgmdmW"
      },
      "source": [
        "Para aprender a teoria sobre operações com matrizes: https://pt.khanacademy.org/math/precalculus/precalc-matrices"
      ]
    },
    {
      "cell_type": "markdown",
      "metadata": {
        "id": "i3_XLcLhmdmW"
      },
      "source": [
        "Para aprender a teoria e prática sobre operações com matrizes: https://www.datascienceacademy.com.br/pages/formacao-inteligencia-artificial"
      ]
    },
    {
      "cell_type": "code",
      "metadata": {
        "id": "khqw095cmdmW"
      },
      "source": [
        "# Criando tensores\n",
        "tensor_a = tf.constant([[4., 2.]])\n",
        "tensor_b = tf.constant([[3.],[7.]])"
      ],
      "execution_count": 75,
      "outputs": []
    },
    {
      "cell_type": "code",
      "metadata": {
        "colab": {
          "base_uri": "https://localhost:8080/"
        },
        "id": "e3Q5NfCCmdmW",
        "outputId": "b645d23d-41da-4dc4-e0bd-6134b467ab67"
      },
      "source": [
        "print(tensor_a)"
      ],
      "execution_count": 76,
      "outputs": [
        {
          "output_type": "stream",
          "text": [
            "Tensor(\"Const_18:0\", shape=(1, 2), dtype=float32)\n"
          ],
          "name": "stdout"
        }
      ]
    },
    {
      "cell_type": "code",
      "metadata": {
        "colab": {
          "base_uri": "https://localhost:8080/"
        },
        "id": "qHLExaIamdmW",
        "outputId": "38813cd4-4fe9-42a2-c9d6-d622bc065e38"
      },
      "source": [
        "print(tensor_b)"
      ],
      "execution_count": 77,
      "outputs": [
        {
          "output_type": "stream",
          "text": [
            "Tensor(\"Const_19:0\", shape=(2, 1), dtype=float32)\n"
          ],
          "name": "stdout"
        }
      ]
    },
    {
      "cell_type": "code",
      "metadata": {
        "id": "h11i3qmQmdmX"
      },
      "source": [
        "# Multiplicação\n",
        "# tf.multiply(X, Y) executa multiplicação element-wise \n",
        "# https://www.tensorflow.org/api_docs/python/tf/multiply\n",
        "prod = tf.multiply(tensor_a, tensor_b)"
      ],
      "execution_count": 78,
      "outputs": []
    },
    {
      "cell_type": "code",
      "metadata": {
        "colab": {
          "base_uri": "https://localhost:8080/"
        },
        "id": "dkyV6adRmdmX",
        "outputId": "7b949c10-6870-4d9f-ea80-691bcf50e280"
      },
      "source": [
        "# Executa a sessão\n",
        "with tf.Session() as sess:\n",
        "    print('\\ntensor_a: \\n', sess.run(tensor_a))\n",
        "    print('\\ntensor_b: \\n', sess.run(tensor_b))\n",
        "    print('\\nProduto Element-wise Entre os Tensores: \\n', sess.run(prod))"
      ],
      "execution_count": 79,
      "outputs": [
        {
          "output_type": "stream",
          "text": [
            "\n",
            "tensor_a: \n",
            " [[4. 2.]]\n",
            "\n",
            "tensor_b: \n",
            " [[3.]\n",
            " [7.]]\n",
            "\n",
            "Produto Element-wise Entre os Tensores: \n",
            " [[12.  6.]\n",
            " [28. 14.]]\n"
          ],
          "name": "stdout"
        }
      ]
    },
    {
      "cell_type": "code",
      "metadata": {
        "id": "USsZC7CwmdmX"
      },
      "source": [
        "# Outro exemplo de Multiplicação de Matrizes\n",
        "mat_a = tf.constant([[2, 3], [9, 2], [4, 5]])\n",
        "mat_b = tf.constant([[6, 4, 5], [3, 7, 2]])"
      ],
      "execution_count": 80,
      "outputs": []
    },
    {
      "cell_type": "code",
      "metadata": {
        "colab": {
          "base_uri": "https://localhost:8080/"
        },
        "id": "JLtt60kTmdmX",
        "outputId": "618691e4-dad0-440d-846f-3be7cc1dff98"
      },
      "source": [
        "print(mat_a)"
      ],
      "execution_count": 81,
      "outputs": [
        {
          "output_type": "stream",
          "text": [
            "Tensor(\"Const_20:0\", shape=(3, 2), dtype=int32)\n"
          ],
          "name": "stdout"
        }
      ]
    },
    {
      "cell_type": "code",
      "metadata": {
        "colab": {
          "base_uri": "https://localhost:8080/"
        },
        "id": "O5pp4NNZmdmY",
        "outputId": "273f805b-86a3-4f8e-cc1f-0aff58cfe0f9"
      },
      "source": [
        "print(mat_b)"
      ],
      "execution_count": 82,
      "outputs": [
        {
          "output_type": "stream",
          "text": [
            "Tensor(\"Const_21:0\", shape=(2, 3), dtype=int32)\n"
          ],
          "name": "stdout"
        }
      ]
    },
    {
      "cell_type": "code",
      "metadata": {
        "id": "qkTIiK3XmdmY"
      },
      "source": [
        "# Multiplicação\n",
        "# tf.matmul(X, Y) executa multiplicação entre matrizes \n",
        "# https://www.tensorflow.org/api_docs/python/tf/matmul\n",
        "mat_prod = tf.matmul(mat_a, mat_b)"
      ],
      "execution_count": 83,
      "outputs": []
    },
    {
      "cell_type": "code",
      "metadata": {
        "colab": {
          "base_uri": "https://localhost:8080/"
        },
        "id": "796MKcHFmdmY",
        "outputId": "6c00af58-5614-4a7e-c613-0b113405eeaf"
      },
      "source": [
        "# Executa a sessão\n",
        "with tf.Session() as sess:\n",
        "    print('\\nTensor mat_a: \\n', sess.run(mat_a))\n",
        "    print('\\nTensor mat_b: \\n', sess.run(mat_b))\n",
        "    print('\\nProduto Element-wise Entre os Tensores (Matrizes): \\n', sess.run(mat_prod))"
      ],
      "execution_count": 84,
      "outputs": [
        {
          "output_type": "stream",
          "text": [
            "\n",
            "Tensor mat_a: \n",
            " [[2 3]\n",
            " [9 2]\n",
            " [4 5]]\n",
            "\n",
            "Tensor mat_b: \n",
            " [[6 4 5]\n",
            " [3 7 2]]\n",
            "\n",
            "Produto Element-wise Entre os Tensores (Matrizes): \n",
            " [[21 29 16]\n",
            " [60 50 49]\n",
            " [39 51 30]]\n"
          ],
          "name": "stdout"
        }
      ]
    },
    {
      "cell_type": "code",
      "metadata": {
        "colab": {
          "base_uri": "https://localhost:8080/",
          "height": 0
        },
        "id": "Qp_tDt_wmdmY",
        "outputId": "389b4861-fff1-4eb6-b809-1219a13c77fb"
      },
      "source": [
        "from IPython.display import Image\n",
        "Image('imagens/matrizes.png')"
      ],
      "execution_count": 85,
      "outputs": [
        {
          "output_type": "execute_result",
          "data": {
            "image/png": "imagens/matrizes.png",
            "text/plain": [
              "<IPython.core.display.Image object>"
            ]
          },
          "metadata": {
            "tags": []
          },
          "execution_count": 85
        }
      ]
    },
    {
      "cell_type": "markdown",
      "metadata": {
        "id": "jYkJh4dcmdmZ"
      },
      "source": [
        "## Usando Variáveis"
      ]
    },
    {
      "cell_type": "markdown",
      "metadata": {
        "id": "8I9o-iynmdmZ"
      },
      "source": [
        "O TensorFlow também possui nodes variáveis que podem conter dados variáveis. Elas são usados principalmente para manter e atualizar parâmetros de um modelo de treinamento.\n",
        "\n",
        "Variáveis são buffers na memória contendo tensores. Elas devem ser inicializados e podem ser salvas durante e após o treinamento. Você pode restaurar os valores salvos posteriormente para exercitar ou analisar o modelo.\n",
        "\n",
        "Uma diferença importante a notar entre uma constante e uma variável é:\n",
        "\n",
        "O valor de uma constante é armazenado no grafo e seu valor é replicado onde o grafo é carregado. Uma variável é armazenada separadamente e pode estar em um servidor de parâmetros."
      ]
    },
    {
      "cell_type": "code",
      "metadata": {
        "colab": {
          "base_uri": "https://localhost:8080/"
        },
        "id": "TyZatjJFmdmZ",
        "outputId": "c81026a8-9ff9-45d2-a8b6-dc95f0159336"
      },
      "source": [
        "# Import\n",
        "import tensorflow as tf\n",
        " \n",
        "# Criando um node no grafo computacional\n",
        "node = tf.Variable(tf.zeros([2,2]))\n",
        " \n",
        "# Executando o grafo computacional\n",
        "with tf.Session() as sess:\n",
        " \n",
        "    # Inicializando as variábeis\n",
        "    sess.run(tf.global_variables_initializer())\n",
        " \n",
        "    # Avaliando o node\n",
        "    print(\"\\nTensor Original:\\n\", sess.run(node))\n",
        " \n",
        "    # Adição element-wise no tensor\n",
        "    node = node.assign(node + tf.ones([2,2]))\n",
        " \n",
        "    # Avaliando o node novamente\n",
        "    print(\"\\nTensor depois da adição:\\n\", sess.run(node))"
      ],
      "execution_count": 86,
      "outputs": [
        {
          "output_type": "stream",
          "text": [
            "\n",
            "Tensor Original:\n",
            " [[0. 0.]\n",
            " [0. 0.]]\n",
            "\n",
            "Tensor depois da adição:\n",
            " [[1. 1.]\n",
            " [1. 1.]]\n"
          ],
          "name": "stdout"
        }
      ]
    },
    {
      "cell_type": "markdown",
      "metadata": {
        "id": "Tq5ywSgomdmZ"
      },
      "source": [
        "## Usando Placeholders"
      ]
    },
    {
      "cell_type": "markdown",
      "metadata": {
        "id": "S82V7btlmdmZ"
      },
      "source": [
        "Um grafo pode ser parametrizado para aceitar dados externos e podemos reservar áreas conhecidas como espaços reservados (Placeholders). Um espaço reservado é uma promessa para fornecer um valor mais tarde.\n",
        "\n",
        "Ao avaliar o grafo envolvendo nós de espaço reservado, um parâmetro feed_dict é passado para a sessão."
      ]
    },
    {
      "cell_type": "code",
      "metadata": {
        "colab": {
          "base_uri": "https://localhost:8080/"
        },
        "id": "c0cZxBaqmdma",
        "outputId": "3419abc3-860f-43d2-9632-5cc1e4f23554"
      },
      "source": [
        "# Import\n",
        "import tensorflow as tf\n",
        " \n",
        "# Criando nodes no Grafo Computacional\n",
        "a = tf.placeholder(tf.int32, shape=(3,1))\n",
        "b = tf.placeholder(tf.int32, shape=(1,3))\n",
        "c = tf.matmul(a,b)\n",
        " \n",
        "# Executando o Grafo Computacional\n",
        "with tf.Session() as sess:\n",
        "    print(sess.run(c, feed_dict={a:[[3],[2],[1]], b:[[1,2,3]]}))"
      ],
      "execution_count": 87,
      "outputs": [
        {
          "output_type": "stream",
          "text": [
            "[[3 6 9]\n",
            " [2 4 6]\n",
            " [1 2 3]]\n"
          ],
          "name": "stdout"
        }
      ]
    },
    {
      "cell_type": "code",
      "metadata": {
        "colab": {
          "base_uri": "https://localhost:8080/",
          "height": 34
        },
        "id": "1pocUW85mdma",
        "outputId": "9f8a078a-c97f-47ed-84f3-4ed889300217"
      },
      "source": [
        "from IPython.display import Image\n",
        "Image('imagens/matrizes.png')"
      ],
      "execution_count": 88,
      "outputs": [
        {
          "output_type": "execute_result",
          "data": {
            "image/png": "imagens/matrizes.png",
            "text/plain": [
              "<IPython.core.display.Image object>"
            ]
          },
          "metadata": {
            "tags": []
          },
          "execution_count": 88
        }
      ]
    },
    {
      "cell_type": "markdown",
      "metadata": {
        "collapsed": true,
        "id": "t7RIuVXBmdma"
      },
      "source": [
        "# Fim"
      ]
    }
  ]
}